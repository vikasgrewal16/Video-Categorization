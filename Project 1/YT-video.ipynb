{
 "cells": [
  {
   "cell_type": "code",
   "execution_count": 9,
   "id": "29d1de7c",
   "metadata": {},
   "outputs": [],
   "source": [
    "from googleapiclient.discovery import build\n",
    "import pandas as pd\n",
    "import seaborn as sns"
   ]
  },
  {
   "cell_type": "markdown",
   "id": "1e3acede",
   "metadata": {},
   "source": [
    "##### Please Enter your api key below before using the code"
   ]
  },
  {
   "cell_type": "code",
   "execution_count": 10,
   "id": "20ba87ba",
   "metadata": {},
   "outputs": [],
   "source": [
    "api_key = 'Enter your api key here'\n",
    "\n",
    "youtube = build('youtube', 'v3', developerKey=api_key)"
   ]
  },
  {
   "cell_type": "markdown",
   "id": "ec5ec1a2",
   "metadata": {},
   "source": [
    "## Function to get channel stats\n"
   ]
  },
  {
   "cell_type": "markdown",
   "id": "be34ee2b",
   "metadata": {},
   "source": [
    "Enter the channel name below to use work on required channel"
   ]
  },
  {
   "cell_type": "code",
   "execution_count": 11,
   "id": "015bf8c5",
   "metadata": {},
   "outputs": [],
   "source": [
    "st = input(\"Enter the link\")\n",
    "# st = 'https://www.youtube.com/watch?v=rjc9M8Ck4QM'\n",
    "video_ids = []"
   ]
  },
  {
   "cell_type": "code",
   "execution_count": 12,
   "id": "447a1be8",
   "metadata": {},
   "outputs": [],
   "source": [
    "def YTvideo (string, video_ids):\n",
    "    a =''\n",
    "    count = 0\n",
    "    for i in string:\n",
    "        count += 1\n",
    "        if (count < 33):\n",
    "            continue\n",
    "        else:\n",
    "            a = a + i\n",
    "    video_ids.append(a)\n",
    "    \n"
   ]
  },
  {
   "cell_type": "code",
   "execution_count": 13,
   "id": "72eb696d",
   "metadata": {},
   "outputs": [],
   "source": [
    "YTvideo (st, video_ids)"
   ]
  },
  {
   "cell_type": "markdown",
   "id": "a65f29f4",
   "metadata": {},
   "source": [
    "List of video ids"
   ]
  },
  {
   "cell_type": "code",
   "execution_count": 14,
   "id": "0d2d25c9",
   "metadata": {},
   "outputs": [
    {
     "data": {
      "text/plain": [
       "['rjc9M8Ck4QM']"
      ]
     },
     "execution_count": 14,
     "metadata": {},
     "output_type": "execute_result"
    }
   ],
   "source": [
    "video_ids"
   ]
  },
  {
   "cell_type": "markdown",
   "id": "cb349b6d",
   "metadata": {},
   "source": [
    "## Function to get video details"
   ]
  },
  {
   "cell_type": "code",
   "execution_count": 15,
   "id": "613f2b54",
   "metadata": {},
   "outputs": [],
   "source": [
    "def get_video_details(youtube, video_ids):\n",
    "    all_video_stats = []\n",
    "    \n",
    "    for i in range(0, len(video_ids), 50):\n",
    "        request = youtube.videos().list(\n",
    "                    part='snippet,statistics',\n",
    "                    id=','.join(video_ids[i:i+50]))\n",
    "        response = request.execute()\n",
    "        \n",
    "        for video in response['items']:\n",
    "            video_stats = dict(Title = video['snippet']['title'],\n",
    "                               Published_date = video['snippet']['publishedAt'],\n",
    "                               Views = video['statistics']['viewCount'],\n",
    "                               Likes = video['statistics']['likeCount'],\n",
    "                               Comments = video['statistics']['commentCount']\n",
    "                               )\n",
    "            all_video_stats.append(video_stats)\n",
    "            \n",
    "    \n",
    "    return all_video_stats"
   ]
  },
  {
   "cell_type": "code",
   "execution_count": 16,
   "id": "a9be64bb",
   "metadata": {},
   "outputs": [],
   "source": [
    "video_details = get_video_details(youtube, video_ids)"
   ]
  },
  {
   "cell_type": "code",
   "execution_count": 17,
   "id": "3dc31327",
   "metadata": {},
   "outputs": [],
   "source": [
    "video_data = pd.DataFrame(video_details)"
   ]
  },
  {
   "cell_type": "code",
   "execution_count": 18,
   "id": "00927bdd",
   "metadata": {},
   "outputs": [],
   "source": [
    "video_data['Published_date'] = pd.to_datetime(video_data['Published_date']).dt.date\n",
    "video_data['Views'] = pd.to_numeric(video_data['Views'])\n",
    "video_data['Likes'] = pd.to_numeric(video_data['Likes'])\n",
    "video_data['Views'] = pd.to_numeric(video_data['Views'])\n"
   ]
  },
  {
   "cell_type": "code",
   "execution_count": 19,
   "id": "1dcc4925",
   "metadata": {},
   "outputs": [
    {
     "data": {
      "text/html": [
       "<div>\n",
       "<style scoped>\n",
       "    .dataframe tbody tr th:only-of-type {\n",
       "        vertical-align: middle;\n",
       "    }\n",
       "\n",
       "    .dataframe tbody tr th {\n",
       "        vertical-align: top;\n",
       "    }\n",
       "\n",
       "    .dataframe thead th {\n",
       "        text-align: right;\n",
       "    }\n",
       "</style>\n",
       "<table border=\"1\" class=\"dataframe\">\n",
       "  <thead>\n",
       "    <tr style=\"text-align: right;\">\n",
       "      <th></th>\n",
       "      <th>Title</th>\n",
       "      <th>Published_date</th>\n",
       "      <th>Views</th>\n",
       "      <th>Likes</th>\n",
       "      <th>Comments</th>\n",
       "    </tr>\n",
       "  </thead>\n",
       "  <tbody>\n",
       "    <tr>\n",
       "      <th>0</th>\n",
       "      <td>CID - सी आई डी - Ep 1455 - Abhijeet Trapped - ...</td>\n",
       "      <td>2017-08-26</td>\n",
       "      <td>25660414</td>\n",
       "      <td>120614</td>\n",
       "      <td>4187</td>\n",
       "    </tr>\n",
       "  </tbody>\n",
       "</table>\n",
       "</div>"
      ],
      "text/plain": [
       "                                               Title Published_date     Views  \\\n",
       "0  CID - सी आई डी - Ep 1455 - Abhijeet Trapped - ...     2017-08-26  25660414   \n",
       "\n",
       "    Likes Comments  \n",
       "0  120614     4187  "
      ]
     },
     "execution_count": 19,
     "metadata": {},
     "output_type": "execute_result"
    }
   ],
   "source": [
    "video_data"
   ]
  },
  {
   "cell_type": "code",
   "execution_count": null,
   "id": "e846c704",
   "metadata": {},
   "outputs": [],
   "source": []
  },
  {
   "cell_type": "code",
   "execution_count": null,
   "id": "6bb91565",
   "metadata": {},
   "outputs": [],
   "source": []
  }
 ],
 "metadata": {
  "kernelspec": {
   "display_name": "Python 3.10.5 64-bit",
   "language": "python",
   "name": "python3"
  },
  "language_info": {
   "codemirror_mode": {
    "name": "ipython",
    "version": 3
   },
   "file_extension": ".py",
   "mimetype": "text/x-python",
   "name": "python",
   "nbconvert_exporter": "python",
   "pygments_lexer": "ipython3",
   "version": "3.10.5"
  },
  "vscode": {
   "interpreter": {
    "hash": "25ed51981eb28f75690f46c5c4fe6b329891279e4ae885bbb2876b01fbd0a731"
   }
  }
 },
 "nbformat": 4,
 "nbformat_minor": 5
}

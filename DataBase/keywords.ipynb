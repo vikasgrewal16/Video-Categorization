{
 "cells": [
  {
   "cell_type": "code",
   "execution_count": 12,
   "metadata": {},
   "outputs": [],
   "source": [
    "def remove_emoji(text):\n",
    "    from cleantext import clean\n",
    "    text = clean(text, no_emoji=True)\n",
    "    return text\n",
    "    \n",
    "def remove_punc(test_str):\n",
    "    import string\n",
    "    new_string = test_str.translate(str.maketrans('', '', string.punctuation))\n",
    "    final_str = ''.join([i for i in new_string if not i.isdigit()])\n",
    "    return final_str"
   ]
  },
  {
   "cell_type": "code",
   "execution_count": 13,
   "metadata": {},
   "outputs": [],
   "source": [
    "# def remove_punc(test_str):\n",
    "#     punc = '''~!@#$%^&*()_+`-=[]{}|\\;':\",./<>?1234567890'''\n",
    "#     for ele in test_str:\n",
    "#         if ele in punc:\n",
    "#             test_str = test_str.replace(ele, \" \")\n",
    "#     return test_str"
   ]
  },
  {
   "cell_type": "code",
   "execution_count": 14,
   "metadata": {},
   "outputs": [
    {
     "name": "stdout",
     "output_type": "stream",
     "text": [
      "Video_Details(Moonbug Kids - Sing Along With Me!).txt\n",
      "Video_Details(Kids TV India Hindi Nursery Rhymes).txt\n",
      "Video_Details(Moonbug Kids - Spooky Stories For Kids).txt\n",
      "Video_Details(Cocomelon - Nursery Rhymes).txt\n"
     ]
    }
   ],
   "source": [
    "list = ['CS50',\n",
    "'Defence Wallah - NDA','sentdex','Physics Wallah - Alakh Pandey',\n",
    "'Commerce Wallah by PW','Unacademy Atoms','NCERT Wallah','Apni Kaksha NEET',\n",
    "'CodeWithHarry','Aman Dhattarwal','Unacademy - लक्ष्य UPSC CSE','Competition Wallah',\n",
    "'Unacademy - English Learning','JEE Wallah','Apni Kaksha - 9th & 10th','Unacademy CS Executive',\n",
    "'Physics Wallah Foundation','Unacademy CUET','Unacademy - Shaurya',\n",
    "'Apni Kaksha','ProgrammingWithHarry','Physics Wallah - English','edureka! Hindi',\n",
    "'edureka!',\"Let's Crack UPSC CSE\",'Unacademy CA Foundation Pro',\n",
    "'Unacademy Class 6','Unacademy Class 9 & 10','Unacademy Class 11 & 12','Unacademy Computer Science',\n",
    "\"Unacademy GATE - ME, PI, XE\",'Unacademy JEE','Unacademy Live - CSIR UGC NET','Unacademy Live - IIT JAM',\n",
    "'Unacademy Live - SSC Exams','Unacademy NEET','Unacademy UPSC Hindi','Unacademy UPSC','Apna College',\n",
    "'Technology Gyan','Trakin Tech','Linus Tech Tips','TechGumbo','Tech Burner'\n",
    "]\n",
    "list2 = ['Moonbug Kids - Sing Along With Me!', 'Kids TV India Hindi Nursery Rhymes', \n",
    "'Moonbug Kids - Spooky Stories For Kids', 'Cocomelon - Nursery Rhymes'\n",
    "]\n",
    "\n",
    "for i in range(len(list)):\n",
    "    file_name_txt = 'Video_Details('+list[i]+').txt'\n",
    "    f = open(file_name_txt, encoding=\"utf8\")\n",
    "    lines = f.read()\n",
    "    f.close()\n",
    "    \n",
    "    l2 = remove_punc(lines)\n",
    "    l3 = remove_emoji(l2)\n",
    "\n",
    "    f2 = open('Keywords.txt','a', encoding=\"utf8\")\n",
    "    f2.write(l3)\n",
    "    f2.close()\n",
    "    print(file_name_txt)\n"
   ]
  },
  {
   "cell_type": "code",
   "execution_count": 15,
   "metadata": {},
   "outputs": [],
   "source": [
    "def keyword(dict_name):\n",
    "    f3 = open(dict_name, 'r', encoding = \"utf8\")\n",
    "    data = f3.read() \n",
    "    word = data.split()\n",
    "    dict = {}\n",
    "    for j in word:\n",
    "        if j in dict.keys():\n",
    "            dict[j] += 1\n",
    "        else:\n",
    "            dict[j] = 1\n",
    "    f3.close()\n",
    "    return dict"
   ]
  },
  {
   "cell_type": "code",
   "execution_count": 16,
   "metadata": {},
   "outputs": [
    {
     "name": "stdout",
     "output_type": "stream",
     "text": [
      "9308\n"
     ]
    }
   ],
   "source": [
    "dict_name = 'Keywords.txt'\n",
    "dict = keyword(dict_name)\n",
    "print(len(dict))"
   ]
  },
  {
   "cell_type": "code",
   "execution_count": 17,
   "metadata": {},
   "outputs": [],
   "source": [
    "import csv\n",
    "\n",
    "my_dictionary = dict\n",
    "\n",
    "with open('Keywords.csv', 'w') as f:\n",
    "    for key in my_dictionary.keys():\n",
    "        f.write(\"%s, %s\\n\" % (key, my_dictionary[key]))"
   ]
  },
  {
   "cell_type": "code",
   "execution_count": 18,
   "metadata": {},
   "outputs": [],
   "source": [
    "new_dict = dict"
   ]
  },
  {
   "cell_type": "code",
   "execution_count": 19,
   "metadata": {},
   "outputs": [],
   "source": [
    "cd = []\n",
    "non_edu_dict = {}\n",
    "\n",
    "for j in new_dict.keys():\n",
    "    if new_dict[j] <= 100:\n",
    "        cd.append(j)\n",
    "        \n",
    "# print(cd)\n",
    "\n",
    "for k in cd:\n",
    "    non_edu_dict[k] = new_dict[k]\n",
    "    del new_dict[k]"
   ]
  },
  {
   "cell_type": "code",
   "execution_count": 20,
   "metadata": {},
   "outputs": [
    {
     "name": "stdout",
     "output_type": "stream",
     "text": [
      "9308\n",
      "1008\n",
      "8300\n"
     ]
    }
   ],
   "source": [
    "dict_name = 'Keywords.txt'\n",
    "dict = keyword(dict_name)\n",
    "print(len(dict))\n",
    "print(len(new_dict))\n",
    "print(len(non_edu_dict))"
   ]
  },
  {
   "cell_type": "code",
   "execution_count": 21,
   "metadata": {},
   "outputs": [],
   "source": [
    "import csv\n",
    "\n",
    "my_dictionary = new_dict\n",
    "\n",
    "with open('Keywords_final.csv', 'w') as f:\n",
    "    for key in my_dictionary.keys():\n",
    "        f.write(\"%s, %s\\n\" % (key, my_dictionary[key]))"
   ]
  },
  {
   "cell_type": "code",
   "execution_count": 22,
   "metadata": {},
   "outputs": [],
   "source": [
    "import csv\n",
    "\n",
    "my_dictionary = non_edu_dict\n",
    "\n",
    "with open('non_edu.csv', 'w') as f:\n",
    "    for key in my_dictionary.keys():\n",
    "        f.write(\"%s, %s\\n\" % (key, my_dictionary[key]))"
   ]
  },
  {
   "cell_type": "code",
   "execution_count": null,
   "metadata": {},
   "outputs": [],
   "source": []
  }
 ],
 "metadata": {
  "kernelspec": {
   "display_name": "Python 3.10.5 64-bit",
   "language": "python",
   "name": "python3"
  },
  "language_info": {
   "codemirror_mode": {
    "name": "ipython",
    "version": 3
   },
   "file_extension": ".py",
   "mimetype": "text/x-python",
   "name": "python",
   "nbconvert_exporter": "python",
   "pygments_lexer": "ipython3",
   "version": "3.10.5"
  },
  "orig_nbformat": 4,
  "vscode": {
   "interpreter": {
    "hash": "25ed51981eb28f75690f46c5c4fe6b329891279e4ae885bbb2876b01fbd0a731"
   }
  }
 },
 "nbformat": 4,
 "nbformat_minor": 2
}

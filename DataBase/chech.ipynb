{
 "cells": [
  {
   "cell_type": "code",
   "execution_count": 11,
   "metadata": {},
   "outputs": [],
   "source": [
    "def remove_emoji(text):\n",
    "    from cleantext import clean\n",
    "    text = clean(text, no_emoji=True)\n",
    "    return text"
   ]
  },
  {
   "cell_type": "code",
   "execution_count": 7,
   "metadata": {},
   "outputs": [],
   "source": [
    "def remove_punc(test_str):\n",
    "    import string\n",
    "    new_string = test_str.translate(str.maketrans('', '', string.punctuation))\n",
    "    final_str = ''.join([i for i in new_string if not i.isdigit()])\n",
    "    return final_str"
   ]
  },
  {
   "cell_type": "code",
   "execution_count": null,
   "metadata": {},
   "outputs": [],
   "source": []
  },
  {
   "cell_type": "code",
   "execution_count": null,
   "metadata": {},
   "outputs": [],
   "source": []
  },
  {
   "cell_type": "code",
   "execution_count": 15,
   "metadata": {},
   "outputs": [
    {
     "name": "stdout",
     "output_type": "stream",
     "text": [
      "Video_Details(Defence Wallah - NDA).txt\n",
      "Video_Details(sentdex).txt\n",
      "Video_Details(Trakin Tech).txt\n",
      "Video_Details(Physics Wallah - Alakh Pandey).txt\n"
     ]
    }
   ],
   "source": [
    "list = ['Defence Wallah - NDA','sentdex','Trakin Tech','Physics Wallah - Alakh Pandey','Unacademy Live - SSC Exams',\"Let's Crack UPSC CSE\",'Apna College',\"Unacademy GATE - ME, PI, XE\",'Unacademy JEE','Unacademy Class 9 & 10','Commerce Wallah by PW','Unacademy Atoms','Unacademy Class 11 & 12','NCERT Wallah','Apni Kaksha NEET','Unacademy NEET','CodeWithHarry','Aman Dhattarwal','Unacademy - लक्ष्य UPSC CSE','Tech Burner','Competition Wallah','Linus Tech Tips','Unacademy Class 6','Unacademy Live - CSIR UGC NET','Unacademy - English Learning','JEE Wallah','edureka!','Apni Kaksha - 9th & 10th','Unacademy Computer Science','CS50','Unacademy CA Foundation Pro','Unacademy CS Executive','Unacademy Live - IIT JAM','Physics Wallah Foundation','Unacademy CUET','Technology Gyan','PW - Hindi Medium','Unacademy UPSC Hindi','Unacademy - Shaurya','TechGumbo','Apni Kaksha','ProgrammingWithHarry','Physics Wallah - English','Unacademy UPSC',\n",
    "'edureka! Hindi'\n",
    "]\n",
    "\n",
    "for i in range(len(list)):\n",
    "    file_name_txt = 'Video_Details('+list[i]+').txt'\n",
    "    f = open(file_name_txt, encoding=\"utf8\")\n",
    "    lines = f.read()\n",
    "    f.close()\n",
    "\n",
    "    line = remove_punc(lines)\n",
    "    l1 = remove_emoji(line)\n",
    "\n",
    "    f2 = open('Keywords.txt','a', encoding=\"utf8\")\n",
    "    f2.write(l1)\n",
    "    f2.close()\n",
    "    print(file_name_txt)\n"
   ]
  },
  {
   "cell_type": "code",
   "execution_count": null,
   "metadata": {},
   "outputs": [],
   "source": []
  }
 ],
 "metadata": {
  "kernelspec": {
   "display_name": "Python 3.10.5 64-bit",
   "language": "python",
   "name": "python3"
  },
  "language_info": {
   "codemirror_mode": {
    "name": "ipython",
    "version": 3
   },
   "file_extension": ".py",
   "mimetype": "text/x-python",
   "name": "python",
   "nbconvert_exporter": "python",
   "pygments_lexer": "ipython3",
   "version": "3.10.5"
  },
  "orig_nbformat": 4,
  "vscode": {
   "interpreter": {
    "hash": "25ed51981eb28f75690f46c5c4fe6b329891279e4ae885bbb2876b01fbd0a731"
   }
  }
 },
 "nbformat": 4,
 "nbformat_minor": 2
}

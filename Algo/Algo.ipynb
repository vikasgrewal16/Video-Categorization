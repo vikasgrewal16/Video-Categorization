{
 "cells": [
  {
   "cell_type": "markdown",
   "id": "00d7ec28",
   "metadata": {},
   "source": [
    "## For YouTube Videos"
   ]
  },
  {
   "cell_type": "code",
   "execution_count": 1,
   "id": "29d1de7c",
   "metadata": {},
   "outputs": [],
   "source": [
    "from googleapiclient.discovery import build\n",
    "import pandas as pd\n",
    "import seaborn as sns\n",
    "import csv\n",
    "import re"
   ]
  },
  {
   "cell_type": "markdown",
   "id": "1e3acede",
   "metadata": {},
   "source": [
    "##### Please Enter your api key below before using the code"
   ]
  },
  {
   "cell_type": "code",
   "execution_count": 2,
   "id": "20ba87ba",
   "metadata": {},
   "outputs": [],
   "source": [
    "api_key = 'Enter your api key'\n",
    "\n",
    "youtube = build('youtube', 'v3', developerKey=api_key)"
   ]
  },
  {
   "cell_type": "code",
   "execution_count": 3,
   "id": "015bf8c5",
   "metadata": {},
   "outputs": [],
   "source": [
    "st = input(\"Enter the link\")\n",
    "# st = 'https://www.youtube.com/watch?v=HkYWgkIqwHI'\n",
    "video_ids = []"
   ]
  },
  {
   "cell_type": "code",
   "execution_count": 4,
   "id": "447a1be8",
   "metadata": {},
   "outputs": [],
   "source": [
    "def YTvideo (string, video_ids):\n",
    "    a =''\n",
    "    count = 0\n",
    "    for i in string:\n",
    "        count += 1\n",
    "        if (count < 33):\n",
    "            continue\n",
    "        else:\n",
    "            a = a + i\n",
    "    video_ids.append(a)"
   ]
  },
  {
   "cell_type": "code",
   "execution_count": 5,
   "id": "72eb696d",
   "metadata": {},
   "outputs": [],
   "source": [
    "YTvideo (st, video_ids)"
   ]
  },
  {
   "cell_type": "code",
   "execution_count": 6,
   "id": "0d2d25c9",
   "metadata": {},
   "outputs": [
    {
     "data": {
      "text/plain": [
       "['rfSJeox61vA']"
      ]
     },
     "execution_count": 6,
     "metadata": {},
     "output_type": "execute_result"
    }
   ],
   "source": [
    "video_ids"
   ]
  },
  {
   "cell_type": "code",
   "execution_count": 7,
   "id": "613f2b54",
   "metadata": {},
   "outputs": [],
   "source": [
    "def get_video_details(youtube, video_ids):\n",
    "    all_video_stats = []\n",
    "    \n",
    "    for i in range(0, len(video_ids), 50):\n",
    "        request = youtube.videos().list(\n",
    "                    part='snippet,statistics',\n",
    "                    id=','.join(video_ids[i:i+50]))\n",
    "        response = request.execute()\n",
    "        \n",
    "        for video in response['items']:\n",
    "            video_stats = dict(Title = video['snippet']['title'],\n",
    "                               Description = video['snippet']['description']\n",
    "                               )\n",
    "            all_video_stats.append(video_stats)\n",
    "    \n",
    "    return all_video_stats"
   ]
  },
  {
   "cell_type": "code",
   "execution_count": 8,
   "id": "a9be64bb",
   "metadata": {},
   "outputs": [],
   "source": [
    "video_details = get_video_details(youtube, video_ids)"
   ]
  },
  {
   "cell_type": "code",
   "execution_count": 9,
   "id": "3dc31327",
   "metadata": {},
   "outputs": [],
   "source": [
    "video_data = video_details[0]['Title'] + video_details[0]['Description']"
   ]
  },
  {
   "cell_type": "code",
   "execution_count": 10,
   "id": "ae52c9fb",
   "metadata": {},
   "outputs": [],
   "source": [
    "video_data = re.sub('http://\\S+|https://\\S+', ' ', video_data)\n",
    "video_data = re.sub('http[s]?://\\S+', ' ', video_data)\n",
    "video_data = re.sub(r\"http\\S+\", \" \", video_data)"
   ]
  },
  {
   "cell_type": "code",
   "execution_count": 11,
   "id": "e846c704",
   "metadata": {},
   "outputs": [],
   "source": [
    "def remove_emoji(text):\n",
    "    from cleantext import clean\n",
    "    text = clean(text, no_emoji=True)\n",
    "    return text\n",
    "    \n",
    "def remove_punc(test_str):\n",
    "    import string\n",
    "    new_string = test_str.translate(str.maketrans('', '', string.punctuation))\n",
    "    final_str = ''.join([i for i in new_string if not i.isdigit()])\n",
    "    return final_str"
   ]
  },
  {
   "cell_type": "code",
   "execution_count": 12,
   "id": "4cc96ec5",
   "metadata": {},
   "outputs": [],
   "source": [
    "video_data = remove_punc(video_data)\n",
    "video_data = remove_emoji(video_data)"
   ]
  },
  {
   "cell_type": "code",
   "execution_count": 13,
   "id": "fc6a172b",
   "metadata": {},
   "outputs": [],
   "source": [
    "def keyword(data):\n",
    "    word = data.split()\n",
    "    dict = {}\n",
    "    for j in word:\n",
    "        if j in dict.keys():\n",
    "            dict[j] += 1\n",
    "        else:\n",
    "            dict[j] = 1\n",
    "    return dict"
   ]
  },
  {
   "cell_type": "code",
   "execution_count": 14,
   "id": "dc9ac4cd",
   "metadata": {},
   "outputs": [],
   "source": [
    "video_key = keyword(video_data)"
   ]
  },
  {
   "cell_type": "code",
   "execution_count": 15,
   "id": "3e696043",
   "metadata": {},
   "outputs": [],
   "source": [
    "with open('non_edu.csv', mode='r', encoding = \"utf8\") as ne:\n",
    "    reader = csv.reader(ne)\n",
    "    non_edu = {rows[0]:rows[1] for rows in reader}"
   ]
  },
  {
   "cell_type": "code",
   "execution_count": 16,
   "id": "8a5de3ac",
   "metadata": {},
   "outputs": [],
   "source": [
    "cd = []\n",
    "non_edu_dict = {}\n",
    "for j in non_edu:\n",
    "    if j in video_key.keys():\n",
    "        cd.append(j)\n",
    "\n",
    "for k in cd:\n",
    "    non_edu_dict[k] = video_key[k]\n",
    "    del video_key[k]"
   ]
  },
  {
   "cell_type": "code",
   "execution_count": 17,
   "id": "42f09ffe",
   "metadata": {},
   "outputs": [],
   "source": [
    "with open('keyword_12.csv', mode='r', encoding = \"utf8\") as f:\n",
    "    reader = csv.reader(f)\n",
    "    key_dict = {rows[0]:rows[1] for rows in reader}\n",
    "        "
   ]
  },
  {
   "cell_type": "code",
   "execution_count": 18,
   "id": "ac32ad88",
   "metadata": {},
   "outputs": [],
   "source": [
    "i = 0\n",
    "for key in video_key:\n",
    "    if key in key_dict:\n",
    "        i = i+1"
   ]
  },
  {
   "cell_type": "code",
   "execution_count": 19,
   "id": "8a517fbc",
   "metadata": {},
   "outputs": [
    {
     "name": "stdout",
     "output_type": "stream",
     "text": [
      "sessionStorage & related methods | JavaScript Tutorial in Hindi #70\n",
      "\n",
      "The Video is Educational.\n",
      "\n"
     ]
    }
   ],
   "source": [
    "per = i*100/(len(video_key))\n",
    "# print(str(per)+'%')\n",
    "if per > 30:\n",
    "    print(video_details[0]['Title'])\n",
    "    print(\"\\nThe Video is Educational.\\n\")\n",
    "else:\n",
    "    print(video_details[0]['Title'])\n",
    "    print(\"\\nThe Video is Not Educational.\\n\")"
   ]
  },
  {
   "cell_type": "code",
   "execution_count": 36,
   "id": "dfd3099c",
   "metadata": {},
   "outputs": [],
   "source": [
    "def classify(video_key):\n",
    "    \n",
    "    data = list(video_key.keys())\n",
    "\n",
    "    count={'coding':0,'business':0,'FnA':0,'it':0,'op':0,'pd':0,'design':0,'marketing':0,'ls':0,'photo':0,'HnF':0,'music':0}\n",
    "    coding=['abstraction','active record','ajax','algorithm','angular.js','Apache','api','argument','arithmetic operators','array','ascii','asssignment operators',\n",
    "            'Asynchronous Programming Languages','augmented reality','Autonomous','Back End','binary','backbone.js','bit','Block-based Programming Language','blockly',\n",
    "            'boolean','bootstrap','bug','byte','c++','call','camel case','char','class','html','css','cloud','code','coding','code review','coding',\n",
    "            'command','comman-line','compile','compilation','compiler','computation','computer','science','conditional',\n",
    "            'constants','crowdsourcing','cyber','security','data','structures','database','dbms','database','management','debuging',\n",
    "            'declaration','define','definition','deployment','digital','footprint','django','dns','domain','name','service','double-click','drag','drop','dry','dsl','else',\n",
    "            'else statement','else condition','endless loop','event','event handler','exeption','exeption','handling','express.js','expression','flask','for loop',\n",
    "            'framework','front end','full','stack','developer','function','haml','hardcode','high','level','language','http','ide','integrated','development',\n",
    "            'environment','if','statement','input','inheritance','intellij','internet','ios','swift','ip','address','iteration','java','javascript','json','jquery',\n",
    "            'junior','notation','object','oriented','programming','key','keywords','lamp','linter','linux','local','loop','low','machine','learning','main','mean',\n",
    "            'micro','xml','mongodb','mvc','mysql','sql','nosql','neural','networks','node.js','null','oop','oops','related','objects','online','open','source',\n",
    "            'operand','software','operator','os','operating','system','output','package','method','module','library','packets','pair','parameter','pattern','matching',\n",
    "            'persistant','php','pixel','pointer','postgresql','program','project','based','python','r','react','native','fortran','applets','applet','relation',\n",
    "            'relational','rdbms','rest','represtational','state','transfer','ruby','rails','run','runtime','sass','scratch','script','scripts','scripting','server',\n",
    "            'host','side','sprint','sprites','structured','query','synchronous','asynchronous','syntax','tensor','flow','token','terminal','train','training','url',\n",
    "            'testing','reusability','usability','user','ux','interface','username','variable','type','in-built','version','control','website','while','whiteboarding',\n",
    "            'wi-fi','xcode','restraints','try','catch']\n",
    "    business=['roi','incentivize','monetize','deliverable','margin','accounts','shareholders','payable','recievable','capital','fixed','cost','costs','gross','net','benchmarking',\n",
    "              'swot','kpi','metrics','performance','review','r$d','research','development','business','b2b','b2c','c2b','c2c','scalable','responsive','competency',\n",
    "              'sell','selling','propositions','marketing','management','content','customer','relationship','cpl','per','lead','demographics','digital','aquisition',\n",
    "              'actuary','administration','affiliate','annual','equivalent','annuity','arbitrage','asset','assets','audit','shipping','commissions','wages','strengths',\n",
    "              'weaknesses','opportunities','threats','contingency','theory','mass','niche','inbound','sales','user','benchmarking','bond','break-even','point','capital',\n",
    "              'expenditure','copyright','corporate','social','responsibility','csr','critical','success','factor','diversification','enterprise','investment','strategy',\n",
    "              'trade','export','fairtrade','Valuation','idea','continuity','plan','proposal','outline','fund','dunds','funding','turnover','','','','','','']\n",
    "    #FnA=[Amortization,Assets,Current,Fixed,Allocation,Bonds,Stocks,maturity,Balance,Sheet,Cash,Equivalents,Equation,Capital,Gain,investors,Mutual,funds,Hedge,Flow,Operating,\n",
    "     #    Investing,Financing,Compound,Interest,Depreciation,EBITDA,Equity,Income,Statement,profit,loss,P&L,liabilities,accounts,payable,Current,Long-Term,Liquidity,Net,Worth,\n",
    "      #   Margin,Return,Investment,ROI,Valuation,Working,MisstatementInconsequential,Abatement,Absorption,Costing,Receivable,Receivable,Accountant,Accounting,Change,estimate,\n",
    "       #  Cycle,APB,Accrual,Expense,Acid-Test,Acquisition,Actuary,Gross,subsidiary,Journal,Trial,Balance,Entry,AICPA,Allowance,Resolution,Alternative,Tax,Dispute,Depository,\n",
    "        # Receipt,ADR,AICPA,Anti-Dilution,Annuity,Appreciation,Financial,Assertion,Audit,Documentation,Sampling,Auditor,Authorized,Shares,Inventory,Average-Cost,Withholding,Debt,\n",
    "         #,Debt,Reconciliation, bankruptcy,Value,Bequest,Beta,Bid,Laws,Board,Bond,Discount,,,,,,,,,,,,,,,,,,,,,,,]\n",
    "    FnA=[]\n",
    "    it=['access','accessibility','activex','adress','alias','anonymous','ftp','anti','spam','applet','ascii','file','at','command','set','attachment','authentication',\n",
    "        'backbone','bandwidth','bcp','bi','intelligence','binary','binhex','blended','f2f','learning','blog','bluetooth','bmp','bookmark','boolean','logic','bounce','bridge'\n",
    "        ,'broadband','connection','browser','buffer','buffered','byod','byte','cable','modem','cache','captcha','carrier','dataprise','case-sensitive','cbt','cdr','drive','cd'\n",
    "        'rom','ram','disk','rw','cd-r','cd-rom','cd-rw','cgi','gateway','chat','client','server','client-server','technology','cloud','computing','compress','connect','cookie',\n",
    "        'cookies','courseware','cpu','central','processing','unit','csp','provider','cyberspace','daas','daemon','desktop','data','database','center','decompress','defragmentation',\n",
    "        'degauss','dhcp','dynamic','host','configuration','protocol','dialog','dial-up','digital','digitize','dual','memory','dimm','directory','drm','distance','education','dither',\n",
    "        'group','dns','download','dpi','draas','dvd','dvd-rw','dvd-r','disk','eap','extensible','authentication','ega','elearning','e-,ail','archive','archiving','emulation',\n",
    "        'encryption','eps','emoticon','ethernet','card','extension','female','field','filter','finger','firewall','firewire','flash','folder','font','frames','ftp','transfer',\n",
    "        'graphic','interchange','format','greyware','gui','interface','handshaking','hardware','header','application','home','page','hypertext','http','hypervisor','hyperlink',\n",
    "        'iaas','icon','ics','ieee','port','image','map','imap','message','explorer','radio','internat','ip','irq','isp','iv&v','jpeg','kbps','mbps','kerberos','kerning','kilobyte',\n",
    "        'base','local','network','lan','man','wan','leading','laser','printer','devices','device','lms','system','processor','linux','listserv','listserver','log','secure','security',\n",
    "        'maac','mac','macintosh','mail','mailing','list','mainframe','male','malware','virus','trojen','worms','worm','trojens','workstations','mapi','mobile','megabyte','gigabyte',\n",
    "        'mhz','menu','microsoft','windows','moderator','modem','monitor','mouse','mpeg','mrb','remote','msp','multimedia','multitasking','naas','maneserver','nat','adapter','hub',\n",
    "        'monitoring','ocr','recogniton','on-site','on-cloud','online','opentype','paas','platform','palette','parallel','page','www','web','website','webpage','pda','assitant',\n",
    "        'pdf','perl','pgp','privacy','ph','phishing','ping','packet','pixel','pop','post','postscript','proxy','ppp','point-to-point','software','pull','push','qos','quicktime',\n",
    "        'ram','record','registry','backup','login','rgb','rj-45','connector','read','router','rtf','saas','mode','san','storage','sata','transmission','screen','engine','search',\n",
    "        'secure','section','self-extracting','token','serial','shareware','simm','signature','smtp','spam','ssid','streaming','spyware','subdirectory','svga','t-3','10base-t','table',\n",
    "        'tcp/ip','telnet','telephony','terminal','tiff','toolbar','horse','twitter','twisted','pair','optical','fibre','unix','upload','usb','username','utility','uuencode','vdi',\n",
    "        'virtual','classroom','virtualization','hosting','reality','voip','vpn','vt100','wais','wap','wirelass','wep','wi-fi','window','wlan','workstation','world','wide','web','wpa',\n",
    "        'wysiwyg','x2','xml','xhtml','html','ccss','zero-day','zip','zoom']\n",
    "    op=[]\n",
    "    pd=[]\n",
    "    design=[]\n",
    "    marketing=['marketing','digital','brand','positioning','awareness','generation','revenue','performance','inbound','lead','crm','cms','sales','services','operations',\n",
    "               'revenue','qualified','attribution','retention','expansion','success','support','service','satisfaction','product','gtm','go-to-market','product-fit',\n",
    "               'minimum','viable','total','addressable','tam','plg','product-led','pql','product-qualified','conversion','rate','optimization','cro','market','penetration',\n",
    "               'analysis','buyer','persona','a/b','testing','analytics','brand','rate','ctr','bounce','conversion','customer']\n",
    "    ls=[]\n",
    "    photo=[]\n",
    "    HnF=[]\n",
    "    music=[]\n",
    "    for word in data:\n",
    "        if word in coding:\n",
    "            count['coding']+=1\n",
    "        elif word in business:\n",
    "            count['business']+=1\n",
    "        elif word in FnA:\n",
    "            count['FnA']+=1\n",
    "        elif word in it:\n",
    "            count['it']+=1\n",
    "        elif word in op:\n",
    "            count['op']+=1\n",
    "        elif word in pd:\n",
    "            count['pd']+=1\n",
    "        elif word in design:\n",
    "            count['design']+=1 \n",
    "        elif word in marketing:\n",
    "            count['marketing']+=1   \n",
    "        elif word in ls:\n",
    "            count['ls']+=1\n",
    "        elif word in photo:\n",
    "            count['photo']+=1\n",
    "        elif word in HnF:\n",
    "            count['HnF']+=1\n",
    "        elif word in music:\n",
    "            count['music']+=1\n",
    "        #else:\n",
    "         #   print(\"The video does not belong to any of the sub categories of beyond exams\" )\n",
    "    #Keymax = max(zip(count.values(), count.keys()))[1]\n",
    "    #print(count.keys[v.index(max(count.values))])\n",
    "    if (all(x==0 for x in count.values())==True):\n",
    "        print(\"The video does not belong to any of the sub categories of beyond exams\")\n",
    "    else:\n",
    "        key_list=list(count.keys())\n",
    "        value_list=list(count.values())\n",
    "        max_val = max(value_list)\n",
    "        pos = value_list.index(max_val)\n",
    "\n",
    "        print(\"This video is related to \", key_list[pos])"
   ]
  },
  {
   "cell_type": "code",
   "execution_count": 37,
   "id": "bec74132",
   "metadata": {},
   "outputs": [
    {
     "name": "stdout",
     "output_type": "stream",
     "text": [
      "This video is related to  coding\n"
     ]
    }
   ],
   "source": [
    "classify(video_key)"
   ]
  },
  {
   "cell_type": "code",
   "execution_count": null,
   "id": "3e3a8d91",
   "metadata": {},
   "outputs": [],
   "source": []
  },
  {
   "cell_type": "code",
   "execution_count": null,
   "id": "995760b9",
   "metadata": {},
   "outputs": [],
   "source": [
    "# len(non_edu_dict)"
   ]
  },
  {
   "cell_type": "code",
   "execution_count": null,
   "id": "74869b13",
   "metadata": {},
   "outputs": [],
   "source": [
    "# len(video_key)"
   ]
  },
  {
   "cell_type": "code",
   "execution_count": null,
   "id": "6b61175e",
   "metadata": {},
   "outputs": [],
   "source": [
    "# def update_data():\n",
    "#     if per > 30:\n",
    "#         with open('keyword_12.csv', mode='r', encoding = \"utf8\") as f:\n",
    "#             reader = csv.reader(f)\n",
    "#             key_dict = {rows[0]:rows[1] for rows in reader}\n",
    "\n",
    "#         for j in video_key.keys():\n",
    "#             if j in key_dict.keys():\n",
    "#                 # key_dict[j] += video_key[j]\n",
    "#                 pass\n",
    "#             else:\n",
    "#                 key_dict[j] = 1\n",
    "        \n",
    "#         my_dictionary = key_dict\n",
    "#         with open('keyword_12.csv', 'w') as f:\n",
    "#             for key in my_dictionary.keys():\n",
    "#                 f.write(\"%s, %s\\n\" % (key, my_dictionary[key]))\n",
    "\n",
    "\n",
    "#     else:\n",
    "#         with open('non_edu.csv', mode='r', encoding = \"utf8\") as ne:\n",
    "#             reader = csv.reader(ne)\n",
    "#             non_edu = {rows[0]:rows[1] for rows in reader}\n",
    "\n",
    "#         for j in video_key.keys():\n",
    "#             if j in non_edu.keys():\n",
    "#                 # non_edu[j] += 1\n",
    "#                 pass\n",
    "#             else:\n",
    "#                 non_edu[j] = 1\n",
    "        \n",
    "#         my_dictionary = non_edu\n",
    "#         with open('non_edu.csv', 'w') as f:\n",
    "#             for key in my_dictionary.keys():\n",
    "#                 f.write(\"%s, %s\\n\" % (key, my_dictionary[key]))\n"
   ]
  },
  {
   "cell_type": "code",
   "execution_count": null,
   "id": "27ec1795",
   "metadata": {},
   "outputs": [],
   "source": [
    "# update_data()"
   ]
  },
  {
   "cell_type": "code",
   "execution_count": null,
   "id": "7a7164a0",
   "metadata": {},
   "outputs": [],
   "source": []
  }
 ],
 "metadata": {
  "kernelspec": {
   "display_name": "Python 3.10.5 64-bit",
   "language": "python",
   "name": "python3"
  },
  "language_info": {
   "codemirror_mode": {
    "name": "ipython",
    "version": 3
   },
   "file_extension": ".py",
   "mimetype": "text/x-python",
   "name": "python",
   "nbconvert_exporter": "python",
   "pygments_lexer": "ipython3",
   "version": "3.10.5"
  },
  "vscode": {
   "interpreter": {
    "hash": "25ed51981eb28f75690f46c5c4fe6b329891279e4ae885bbb2876b01fbd0a731"
   }
  }
 },
 "nbformat": 4,
 "nbformat_minor": 5
}

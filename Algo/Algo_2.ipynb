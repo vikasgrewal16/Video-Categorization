{
 "cells": [
  {
   "cell_type": "markdown",
   "id": "15dd1d3c",
   "metadata": {},
   "source": [
    "## For YouTube Channels"
   ]
  },
  {
   "cell_type": "code",
   "execution_count": 28,
   "id": "29d1de7c",
   "metadata": {},
   "outputs": [],
   "source": [
    "from googleapiclient.discovery import build\n",
    "import pandas as pd\n",
    "import seaborn as sns\n",
    "import csv\n",
    "import re"
   ]
  },
  {
   "cell_type": "code",
   "execution_count": 29,
   "id": "20ba87ba",
   "metadata": {},
   "outputs": [],
   "source": [
    "api_key = 'Enter your api key'\n",
    "# 'UCVJU_IChPMOe8RWkdVQjtfQ'\n",
    "channel_ids = []\n",
    "st = input('Enter the channel id')\n",
    "channel_ids.append(st)\n",
    "youtube = build('youtube', 'v3', developerKey=api_key)"
   ]
  },
  {
   "cell_type": "code",
   "execution_count": 30,
   "id": "58f8c6c1",
   "metadata": {},
   "outputs": [],
   "source": [
    "def get_channel_stats(youtube, channel_ids):\n",
    "    all_data = []\n",
    "    request = youtube.channels().list(\n",
    "                part='snippet,contentDetails,statistics',\n",
    "                id=','.join(channel_ids))\n",
    "    response = request.execute() \n",
    "    \n",
    "    for i in range(len(response['items'])):\n",
    "        data = dict(Channel_name = response['items'][i]['snippet']['title'],\n",
    "                    Description = response['items'][i]['snippet']['description'],\n",
    "                    playlist_id = response['items'][i]['contentDetails']['relatedPlaylists']['uploads']\n",
    "                    )\n",
    "        all_data.append(data)\n",
    "    \n",
    "    return all_data"
   ]
  },
  {
   "cell_type": "code",
   "execution_count": 31,
   "id": "a5fa55fb",
   "metadata": {},
   "outputs": [],
   "source": [
    "channel_statistics = get_channel_stats(youtube, channel_ids)"
   ]
  },
  {
   "cell_type": "code",
   "execution_count": 32,
   "id": "f5867b6b",
   "metadata": {},
   "outputs": [],
   "source": [
    "channel_data = pd.DataFrame(channel_statistics)"
   ]
  },
  {
   "cell_type": "code",
   "execution_count": 33,
   "id": "c2edf0e8",
   "metadata": {},
   "outputs": [],
   "source": [
    "# Change channel name here\n",
    "channel_name = channel_statistics[0]['Channel_name']\n",
    "playlist_id = channel_data.loc[channel_data['Channel_name']==channel_name, 'playlist_id'].iloc[0]"
   ]
  },
  {
   "cell_type": "code",
   "execution_count": 34,
   "id": "589fa5a6",
   "metadata": {},
   "outputs": [],
   "source": [
    "def get_video_ids(youtube, playlist_id):\n",
    "    \n",
    "    request = youtube.playlistItems().list(\n",
    "                part='contentDetails',\n",
    "                playlistId = playlist_id,\n",
    "                maxResults = 50)\n",
    "    response = request.execute()\n",
    "    \n",
    "    video_ids = []\n",
    "    \n",
    "    for i in range(len(response['items'])):\n",
    "        video_ids.append(response['items'][i]['contentDetails']['videoId'])\n",
    "        \n",
    "    next_page_token = response.get('nextPageToken')\n",
    "    more_pages = True\n",
    "    \n",
    "    while more_pages:\n",
    "        if next_page_token is None:\n",
    "            more_pages = False\n",
    "        else:\n",
    "            request = youtube.playlistItems().list(\n",
    "                        part='contentDetails',\n",
    "                        playlistId = playlist_id,\n",
    "                        maxResults = 50,\n",
    "                        pageToken = next_page_token)\n",
    "            response = request.execute()\n",
    "    \n",
    "            for i in range(len(response['items'])):\n",
    "                video_ids.append(response['items'][i]['contentDetails']['videoId'])\n",
    "            \n",
    "            next_page_token = response.get('nextPageToken')\n",
    "        \n",
    "    return video_ids"
   ]
  },
  {
   "cell_type": "code",
   "execution_count": 35,
   "id": "e96cea0b",
   "metadata": {},
   "outputs": [],
   "source": [
    "def get_video_details(youtube, video_ids):\n",
    "    all_video_stats = []\n",
    "    \n",
    "    for i in range(0, len(video_ids), 50):\n",
    "        request = youtube.videos().list(\n",
    "                    part='snippet,statistics',\n",
    "                    id=','.join(video_ids[i:i+50]))\n",
    "        response = request.execute()\n",
    "        \n",
    "        for video in response['items']:\n",
    "            video_stats = dict(Title = video['snippet']['title'],\n",
    "                               Description = video['snippet']['description']\n",
    "                               )\n",
    "            all_video_stats.append(video_stats)\n",
    "    \n",
    "    return all_video_stats"
   ]
  },
  {
   "cell_type": "code",
   "execution_count": 36,
   "id": "b19c8137",
   "metadata": {},
   "outputs": [
    {
     "name": "stdout",
     "output_type": "stream",
     "text": [
      "1181\n"
     ]
    }
   ],
   "source": [
    "video_ids = get_video_ids(youtube, playlist_id)\n",
    "print(len(video_ids))"
   ]
  },
  {
   "cell_type": "code",
   "execution_count": 37,
   "id": "a9be64bb",
   "metadata": {},
   "outputs": [],
   "source": [
    "video_details = get_video_details(youtube, video_ids)"
   ]
  },
  {
   "cell_type": "code",
   "execution_count": 38,
   "id": "3dc31327",
   "metadata": {},
   "outputs": [],
   "source": [
    "def remove_emoji(text):\n",
    "    from cleantext import clean\n",
    "    text = clean(text, no_emoji=True)\n",
    "    return text\n",
    "    \n",
    "def remove_punc(test_str):\n",
    "    punc = '''~!@#$%^&*()_+`-=[]{}|\\;':\",./<>?1234567890'''\n",
    "    for ele in test_str:\n",
    "        if ele in punc:\n",
    "            test_str = test_str.replace(ele, \"\")\n",
    "    return test_str"
   ]
  },
  {
   "cell_type": "code",
   "execution_count": 39,
   "id": "b415f6c2",
   "metadata": {},
   "outputs": [],
   "source": [
    "def keyword(data):\n",
    "    word = data.split()\n",
    "    dict = {}\n",
    "    for j in word:\n",
    "        if j in dict.keys():\n",
    "            dict[j] += 1\n",
    "        else:\n",
    "            dict[j] = 1\n",
    "    return dict"
   ]
  },
  {
   "cell_type": "code",
   "execution_count": 40,
   "id": "604c0923",
   "metadata": {},
   "outputs": [
    {
     "name": "stdout",
     "output_type": "stream",
     "text": [
      "Total no of videos: 1181\n",
      "No of Educational Videos: 1087\n",
      "No of Non-Educational Videos: 94\n"
     ]
    }
   ],
   "source": [
    "yes = 0\n",
    "no = 0\n",
    "for i in range (len(video_details)):\n",
    "# importing info of a single video to a dictionary\n",
    "    video_data = str(video_details[i])\n",
    "# Removing Links from text\n",
    "    video_data = re.sub('http://\\S+|https://\\S+', ' ', video_data)\n",
    "    vid = re.sub('http[s]?://\\S+', ' ', video_data)\n",
    "    video_data = re.sub(r\"http\\S+\", \" \", video_data)\n",
    "# removing puncuations and emojis from the text\n",
    "    video_data = remove_punc(video_data)\n",
    "    video_data = remove_emoji(video_data)\n",
    "# finding keywords\n",
    "    video_key = keyword(video_data)\n",
    "# copying the non educational keywords to a dictionary\n",
    "    with open('non_edu.csv', mode='r', encoding = \"utf8\") as ne:\n",
    "        reader = csv.reader(ne)\n",
    "        non_edu = {rows[0]:rows[1] for rows in reader}\n",
    "# deleting the non educational words from keyword\n",
    "    cd = []\n",
    "    non_edu_dict = {}\n",
    "    for j in non_edu:\n",
    "        if j in video_key.keys():\n",
    "            cd.append(j)\n",
    "    for k in cd:\n",
    "        non_edu_dict[k] = video_key[k]\n",
    "        del video_key[k]\n",
    "# copying the educational keywords to a dictionary\n",
    "    with open('keyword_12.csv', mode='r', encoding = \"utf8\") as f:\n",
    "        reader = csv.reader(f)\n",
    "        key_dict = {rows[0]:rows[1] for rows in reader}\n",
    "# Comparing my dataset and video keyword\n",
    "    i = 0\n",
    "    for key in video_key:\n",
    "        if key in key_dict:\n",
    "            i = i+1\n",
    "    \n",
    "    per = i*100/(len(video_key))\n",
    "    # print(str(per)+'%')\n",
    "    \n",
    "# Counting true and false\n",
    "    if per >30:\n",
    "        yes = yes+1\n",
    "    else:\n",
    "        no=no+1\n",
    "\n",
    "print('Total no of videos: '+ str(len(video_ids)))\n",
    "print('No of Educational Videos: '+ str(yes))\n",
    "print('No of Non-Educational Videos: '+ str(no))\n"
   ]
  },
  {
   "cell_type": "code",
   "execution_count": null,
   "id": "7a7164a0",
   "metadata": {},
   "outputs": [],
   "source": []
  }
 ],
 "metadata": {
  "kernelspec": {
   "display_name": "Python 3.10.5 64-bit",
   "language": "python",
   "name": "python3"
  },
  "language_info": {
   "codemirror_mode": {
    "name": "ipython",
    "version": 3
   },
   "file_extension": ".py",
   "mimetype": "text/x-python",
   "name": "python",
   "nbconvert_exporter": "python",
   "pygments_lexer": "ipython3",
   "version": "3.10.5"
  },
  "vscode": {
   "interpreter": {
    "hash": "25ed51981eb28f75690f46c5c4fe6b329891279e4ae885bbb2876b01fbd0a731"
   }
  }
 },
 "nbformat": 4,
 "nbformat_minor": 5
}
